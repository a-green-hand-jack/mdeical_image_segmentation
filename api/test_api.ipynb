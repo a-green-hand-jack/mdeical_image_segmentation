{
 "cells": [
  {
   "cell_type": "code",
   "execution_count": 3,
   "metadata": {},
   "outputs": [],
   "source": [
    "import requests\n",
    "import json\n",
    "from pathlib import Path\n",
    "\n",
    "def get_completion(image_path:str|Path, url='http://127.0.0.1:6046'):\n",
    "    headers = {'Content-Type': 'application/json'}\n",
    "    data = {\"image_path\": image_path}\n",
    "    response = requests.post(url=url,data=json.dumps(data), headers=headers)\n",
    "    return response.json()['response']\n",
    "\n",
    "# if __name__ == '__main__':\n",
    "    # print(get_completion('皇上你怎么了？'))"
   ]
  },
  {
   "cell_type": "code",
   "execution_count": 7,
   "metadata": {},
   "outputs": [
    {
     "name": "stdout",
     "output_type": "stream",
     "text": [
      "{}\n"
     ]
    }
   ],
   "source": [
    "print(get_completion('./girl.jpg', url='http://127.0.0.1:6076'))"
   ]
  }
 ],
 "metadata": {
  "kernelspec": {
   "display_name": "base",
   "language": "python",
   "name": "python3"
  },
  "language_info": {
   "codemirror_mode": {
    "name": "ipython",
    "version": 3
   },
   "file_extension": ".py",
   "mimetype": "text/x-python",
   "name": "python",
   "nbconvert_exporter": "python",
   "pygments_lexer": "ipython3",
   "version": "3.10.1"
  }
 },
 "nbformat": 4,
 "nbformat_minor": 2
}
